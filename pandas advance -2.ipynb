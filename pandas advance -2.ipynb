{
 "cells": [
  {
   "cell_type": "markdown",
   "id": "a7d4929e-1a7c-4e9e-8c69-479b3a817224",
   "metadata": {},
   "source": [
    "# pandas advance 2"
   ]
  },
  {
   "cell_type": "code",
   "execution_count": 1,
   "id": "0efbf256-2756-41f1-a358-004620dc827a",
   "metadata": {},
   "outputs": [],
   "source": [
    "import pandas as pd"
   ]
  },
  {
   "cell_type": "markdown",
   "id": "36952e9e-fd2e-4156-a761-a8bfa43b748f",
   "metadata": {},
   "source": [
    "Q1. Write a code to print the data present in the second row of the dataframe, df."
   ]
  },
  {
   "cell_type": "code",
   "execution_count": 2,
   "id": "5de13865-7681-414e-b3f0-6302b27a3260",
   "metadata": {},
   "outputs": [
    {
     "data": {
      "text/html": [
       "<div>\n",
       "<style scoped>\n",
       "    .dataframe tbody tr th:only-of-type {\n",
       "        vertical-align: middle;\n",
       "    }\n",
       "\n",
       "    .dataframe tbody tr th {\n",
       "        vertical-align: top;\n",
       "    }\n",
       "\n",
       "    .dataframe thead th {\n",
       "        text-align: right;\n",
       "    }\n",
       "</style>\n",
       "<table border=\"1\" class=\"dataframe\">\n",
       "  <thead>\n",
       "    <tr style=\"text-align: right;\">\n",
       "      <th></th>\n",
       "      <th>course_name</th>\n",
       "      <th>duration</th>\n",
       "    </tr>\n",
       "  </thead>\n",
       "  <tbody>\n",
       "    <tr>\n",
       "      <th>0</th>\n",
       "      <td>Data Science</td>\n",
       "      <td>2</td>\n",
       "    </tr>\n",
       "    <tr>\n",
       "      <th>1</th>\n",
       "      <td>Machine Learning</td>\n",
       "      <td>3</td>\n",
       "    </tr>\n",
       "    <tr>\n",
       "      <th>2</th>\n",
       "      <td>Big Data</td>\n",
       "      <td>6</td>\n",
       "    </tr>\n",
       "    <tr>\n",
       "      <th>3</th>\n",
       "      <td>Data Engineer</td>\n",
       "      <td>4</td>\n",
       "    </tr>\n",
       "  </tbody>\n",
       "</table>\n",
       "</div>"
      ],
      "text/plain": [
       "        course_name  duration\n",
       "0      Data Science         2\n",
       "1  Machine Learning         3\n",
       "2          Big Data         6\n",
       "3     Data Engineer         4"
      ]
     },
     "execution_count": 2,
     "metadata": {},
     "output_type": "execute_result"
    }
   ],
   "source": [
    "data={\"course_name\":[\"Data Science\", \"Machine Learning\", \"Big Data\", \"Data Engineer\"],\n",
    "     \"duration\":[2,3,6,4]}\n",
    "\n",
    "df=pd.DataFrame(data)\n",
    "df\n",
    "      "
   ]
  },
  {
   "cell_type": "code",
   "execution_count": 3,
   "id": "6c1df334-d734-444d-826b-a7f6ef2529f3",
   "metadata": {},
   "outputs": [
    {
     "data": {
      "text/plain": [
       "course_name    Machine Learning\n",
       "duration                      3\n",
       "Name: 1, dtype: object"
      ]
     },
     "execution_count": 3,
     "metadata": {},
     "output_type": "execute_result"
    }
   ],
   "source": [
    "df1=df.iloc[1]\n",
    "df1"
   ]
  },
  {
   "cell_type": "markdown",
   "id": "ff82fa83-a1d7-49d8-a7ce-2f2dbbb37b38",
   "metadata": {},
   "source": [
    "Q2. What is the difference between the functions loc and iloc in pandas.DataFrame?"
   ]
  },
  {
   "cell_type": "markdown",
   "id": "c32980a2-27f9-4a49-a55a-d1cab0539f6f",
   "metadata": {},
   "source": [
    "loc = loc is primarily label-based indexing. It is used to access data using the row and column labels.\n",
    "\n",
    "iloc = iloc is primarily integer-based indexing. It is used to access data using the integer positions of rows and columns."
   ]
  },
  {
   "cell_type": "markdown",
   "id": "c4181880-121f-4d9c-9dc7-231828b30a28",
   "metadata": {},
   "source": [
    "Q3. Reindex the given dataframe using a variable, reindex = [3,0,1,2] and store it in the variable, new_df then find the output for both new_df.loc[2] and new_df.iloc[2]."
   ]
  },
  {
   "cell_type": "code",
   "execution_count": 4,
   "id": "5e28fb40-4b9b-488a-8c04-324bfd7b792d",
   "metadata": {},
   "outputs": [
    {
     "data": {
      "text/html": [
       "<div>\n",
       "<style scoped>\n",
       "    .dataframe tbody tr th:only-of-type {\n",
       "        vertical-align: middle;\n",
       "    }\n",
       "\n",
       "    .dataframe tbody tr th {\n",
       "        vertical-align: top;\n",
       "    }\n",
       "\n",
       "    .dataframe thead th {\n",
       "        text-align: right;\n",
       "    }\n",
       "</style>\n",
       "<table border=\"1\" class=\"dataframe\">\n",
       "  <thead>\n",
       "    <tr style=\"text-align: right;\">\n",
       "      <th></th>\n",
       "      <th>course_name</th>\n",
       "      <th>duration</th>\n",
       "    </tr>\n",
       "  </thead>\n",
       "  <tbody>\n",
       "    <tr>\n",
       "      <th>0</th>\n",
       "      <td>Data Science</td>\n",
       "      <td>2</td>\n",
       "    </tr>\n",
       "    <tr>\n",
       "      <th>1</th>\n",
       "      <td>Machine Learning</td>\n",
       "      <td>3</td>\n",
       "    </tr>\n",
       "    <tr>\n",
       "      <th>2</th>\n",
       "      <td>Big Data</td>\n",
       "      <td>6</td>\n",
       "    </tr>\n",
       "    <tr>\n",
       "      <th>3</th>\n",
       "      <td>Data Engineer</td>\n",
       "      <td>4</td>\n",
       "    </tr>\n",
       "  </tbody>\n",
       "</table>\n",
       "</div>"
      ],
      "text/plain": [
       "        course_name  duration\n",
       "0      Data Science         2\n",
       "1  Machine Learning         3\n",
       "2          Big Data         6\n",
       "3     Data Engineer         4"
      ]
     },
     "execution_count": 4,
     "metadata": {},
     "output_type": "execute_result"
    }
   ],
   "source": [
    "df"
   ]
  },
  {
   "cell_type": "code",
   "execution_count": 9,
   "id": "d43ebc26-1407-4a6a-bb1c-85239b03aa26",
   "metadata": {},
   "outputs": [
    {
     "data": {
      "text/html": [
       "<div>\n",
       "<style scoped>\n",
       "    .dataframe tbody tr th:only-of-type {\n",
       "        vertical-align: middle;\n",
       "    }\n",
       "\n",
       "    .dataframe tbody tr th {\n",
       "        vertical-align: top;\n",
       "    }\n",
       "\n",
       "    .dataframe thead th {\n",
       "        text-align: right;\n",
       "    }\n",
       "</style>\n",
       "<table border=\"1\" class=\"dataframe\">\n",
       "  <thead>\n",
       "    <tr style=\"text-align: right;\">\n",
       "      <th></th>\n",
       "      <th>course_name</th>\n",
       "      <th>duration</th>\n",
       "    </tr>\n",
       "  </thead>\n",
       "  <tbody>\n",
       "    <tr>\n",
       "      <th>3</th>\n",
       "      <td>Data Science</td>\n",
       "      <td>2</td>\n",
       "    </tr>\n",
       "    <tr>\n",
       "      <th>0</th>\n",
       "      <td>Machine Learning</td>\n",
       "      <td>3</td>\n",
       "    </tr>\n",
       "    <tr>\n",
       "      <th>1</th>\n",
       "      <td>Big Data</td>\n",
       "      <td>6</td>\n",
       "    </tr>\n",
       "    <tr>\n",
       "      <th>2</th>\n",
       "      <td>Data Engineer</td>\n",
       "      <td>4</td>\n",
       "    </tr>\n",
       "  </tbody>\n",
       "</table>\n",
       "</div>"
      ],
      "text/plain": [
       "        course_name  duration\n",
       "3      Data Science         2\n",
       "0  Machine Learning         3\n",
       "1          Big Data         6\n",
       "2     Data Engineer         4"
      ]
     },
     "execution_count": 9,
     "metadata": {},
     "output_type": "execute_result"
    }
   ],
   "source": [
    "index=[3,0,1,2]\n",
    "df.index= index\n",
    "df"
   ]
  },
  {
   "cell_type": "code",
   "execution_count": 10,
   "id": "890536dc-0563-4b6b-9dfb-a42dceffe5fc",
   "metadata": {},
   "outputs": [
    {
     "data": {
      "text/html": [
       "<div>\n",
       "<style scoped>\n",
       "    .dataframe tbody tr th:only-of-type {\n",
       "        vertical-align: middle;\n",
       "    }\n",
       "\n",
       "    .dataframe tbody tr th {\n",
       "        vertical-align: top;\n",
       "    }\n",
       "\n",
       "    .dataframe thead th {\n",
       "        text-align: right;\n",
       "    }\n",
       "</style>\n",
       "<table border=\"1\" class=\"dataframe\">\n",
       "  <thead>\n",
       "    <tr style=\"text-align: right;\">\n",
       "      <th></th>\n",
       "      <th>course_name</th>\n",
       "      <th>duration</th>\n",
       "    </tr>\n",
       "  </thead>\n",
       "  <tbody>\n",
       "    <tr>\n",
       "      <th>3</th>\n",
       "      <td>Data Science</td>\n",
       "      <td>2</td>\n",
       "    </tr>\n",
       "    <tr>\n",
       "      <th>0</th>\n",
       "      <td>Machine Learning</td>\n",
       "      <td>3</td>\n",
       "    </tr>\n",
       "    <tr>\n",
       "      <th>1</th>\n",
       "      <td>Big Data</td>\n",
       "      <td>6</td>\n",
       "    </tr>\n",
       "    <tr>\n",
       "      <th>2</th>\n",
       "      <td>Data Engineer</td>\n",
       "      <td>4</td>\n",
       "    </tr>\n",
       "  </tbody>\n",
       "</table>\n",
       "</div>"
      ],
      "text/plain": [
       "        course_name  duration\n",
       "3      Data Science         2\n",
       "0  Machine Learning         3\n",
       "1          Big Data         6\n",
       "2     Data Engineer         4"
      ]
     },
     "execution_count": 10,
     "metadata": {},
     "output_type": "execute_result"
    }
   ],
   "source": [
    "new_df=df\n",
    "new_df"
   ]
  },
  {
   "cell_type": "code",
   "execution_count": 11,
   "id": "d35c4b51-de28-4f6b-a721-027cae622529",
   "metadata": {},
   "outputs": [
    {
     "data": {
      "text/plain": [
       "course_name    Data Engineer\n",
       "duration                   4\n",
       "Name: 2, dtype: object"
      ]
     },
     "execution_count": 11,
     "metadata": {},
     "output_type": "execute_result"
    }
   ],
   "source": [
    "new_df.loc[2]"
   ]
  },
  {
   "cell_type": "code",
   "execution_count": 12,
   "id": "3f6f8c2d-d6ad-4775-9fbb-7f1a2a5ee042",
   "metadata": {},
   "outputs": [
    {
     "data": {
      "text/plain": [
       "course_name    Big Data\n",
       "duration              6\n",
       "Name: 1, dtype: object"
      ]
     },
     "execution_count": 12,
     "metadata": {},
     "output_type": "execute_result"
    }
   ],
   "source": [
    "new_df.iloc[2]"
   ]
  },
  {
   "cell_type": "markdown",
   "id": "96d8d793-13f6-4c78-8f2c-5b1896e401b7",
   "metadata": {},
   "source": [
    "acc.to me new_df.loc[2] giving us manually index that we made\n",
    "and new_df.iloc[2] giving us the in-built index."
   ]
  },
  {
   "cell_type": "markdown",
   "id": "3c2b2594-999d-4139-8d7b-142d20ed26e2",
   "metadata": {},
   "source": [
    "Q4. Write a code to find the following statistical measurements for the above dataframe df1:\n",
    "(i) mean of each and every column present in the dataframe.\n",
    "(ii) standard deviation of column, ‘column_2’"
   ]
  },
  {
   "cell_type": "code",
   "execution_count": 1,
   "id": "3ced76ad-9f11-4ba0-bf1e-8d891afefb2d",
   "metadata": {},
   "outputs": [],
   "source": [
    "import pandas as pd\n",
    "import numpy as np"
   ]
  },
  {
   "cell_type": "code",
   "execution_count": 3,
   "id": "1239b58a-0e9f-4bb0-94b3-9d5b2fc38533",
   "metadata": {},
   "outputs": [
    {
     "data": {
      "text/html": [
       "<div>\n",
       "<style scoped>\n",
       "    .dataframe tbody tr th:only-of-type {\n",
       "        vertical-align: middle;\n",
       "    }\n",
       "\n",
       "    .dataframe tbody tr th {\n",
       "        vertical-align: top;\n",
       "    }\n",
       "\n",
       "    .dataframe thead th {\n",
       "        text-align: right;\n",
       "    }\n",
       "</style>\n",
       "<table border=\"1\" class=\"dataframe\">\n",
       "  <thead>\n",
       "    <tr style=\"text-align: right;\">\n",
       "      <th></th>\n",
       "      <th>column_1</th>\n",
       "      <th>column_2</th>\n",
       "      <th>column_3</th>\n",
       "      <th>column_4</th>\n",
       "      <th>column_5</th>\n",
       "      <th>column_6</th>\n",
       "    </tr>\n",
       "  </thead>\n",
       "  <tbody>\n",
       "    <tr>\n",
       "      <th>1</th>\n",
       "      <td>0.720177</td>\n",
       "      <td>0.695259</td>\n",
       "      <td>0.444901</td>\n",
       "      <td>0.611784</td>\n",
       "      <td>0.120405</td>\n",
       "      <td>0.079397</td>\n",
       "    </tr>\n",
       "    <tr>\n",
       "      <th>2</th>\n",
       "      <td>0.012249</td>\n",
       "      <td>0.816237</td>\n",
       "      <td>0.276224</td>\n",
       "      <td>0.362490</td>\n",
       "      <td>0.128723</td>\n",
       "      <td>0.561684</td>\n",
       "    </tr>\n",
       "    <tr>\n",
       "      <th>3</th>\n",
       "      <td>0.169425</td>\n",
       "      <td>0.915172</td>\n",
       "      <td>0.596388</td>\n",
       "      <td>0.203354</td>\n",
       "      <td>0.004806</td>\n",
       "      <td>0.901725</td>\n",
       "    </tr>\n",
       "    <tr>\n",
       "      <th>4</th>\n",
       "      <td>0.434798</td>\n",
       "      <td>0.387084</td>\n",
       "      <td>0.797427</td>\n",
       "      <td>0.591678</td>\n",
       "      <td>0.610039</td>\n",
       "      <td>0.570039</td>\n",
       "    </tr>\n",
       "    <tr>\n",
       "      <th>5</th>\n",
       "      <td>0.086621</td>\n",
       "      <td>0.917992</td>\n",
       "      <td>0.126909</td>\n",
       "      <td>0.541829</td>\n",
       "      <td>0.699131</td>\n",
       "      <td>0.166629</td>\n",
       "    </tr>\n",
       "    <tr>\n",
       "      <th>6</th>\n",
       "      <td>0.431928</td>\n",
       "      <td>0.898815</td>\n",
       "      <td>0.851113</td>\n",
       "      <td>0.628510</td>\n",
       "      <td>0.699894</td>\n",
       "      <td>0.202089</td>\n",
       "    </tr>\n",
       "  </tbody>\n",
       "</table>\n",
       "</div>"
      ],
      "text/plain": [
       "   column_1  column_2  column_3  column_4  column_5  column_6\n",
       "1  0.720177  0.695259  0.444901  0.611784  0.120405  0.079397\n",
       "2  0.012249  0.816237  0.276224  0.362490  0.128723  0.561684\n",
       "3  0.169425  0.915172  0.596388  0.203354  0.004806  0.901725\n",
       "4  0.434798  0.387084  0.797427  0.591678  0.610039  0.570039\n",
       "5  0.086621  0.917992  0.126909  0.541829  0.699131  0.166629\n",
       "6  0.431928  0.898815  0.851113  0.628510  0.699894  0.202089"
      ]
     },
     "execution_count": 3,
     "metadata": {},
     "output_type": "execute_result"
    }
   ],
   "source": [
    "columns = ['column_1', 'column_2', 'column_3', 'column_4', 'column_5', 'column_6']\n",
    "indices = [1,2,3,4,5,6]\n",
    "#Creating a dataframe:\n",
    "df1 = pd.DataFrame(np.random.rand(6,6), columns = columns, index = indices)\n",
    "df1"
   ]
  },
  {
   "cell_type": "code",
   "execution_count": 8,
   "id": "77ae8894-75a9-4c9e-a23a-953a407f7717",
   "metadata": {},
   "outputs": [
    {
     "name": "stderr",
     "output_type": "stream",
     "text": [
      "/opt/conda/lib/python3.10/site-packages/numpy/core/fromnumeric.py:3430: FutureWarning: In a future version, DataFrame.mean(axis=None) will return a scalar mean over the entire DataFrame. To retain the old behavior, use 'frame.mean(axis=0)' or just 'frame.mean()'\n",
      "  return mean(axis=axis, dtype=dtype, out=out, **kwargs)\n"
     ]
    },
    {
     "data": {
      "text/plain": [
       "column_1    0.309200\n",
       "column_2    0.771760\n",
       "column_3    0.515494\n",
       "column_4    0.489941\n",
       "column_5    0.377166\n",
       "column_6    0.413594\n",
       "dtype: float64"
      ]
     },
     "execution_count": 8,
     "metadata": {},
     "output_type": "execute_result"
    }
   ],
   "source": [
    "np.mean(df1[[\"column_1\",\"column_2\",\t\"column_3\",\t\"column_4\",\"column_5\",\t\"column_6\"]])"
   ]
  },
  {
   "cell_type": "code",
   "execution_count": 9,
   "id": "422ffb19-7f09-4ca4-a270-3b925131f6b2",
   "metadata": {},
   "outputs": [
    {
     "data": {
      "text/plain": [
       "0.18881220549447647"
      ]
     },
     "execution_count": 9,
     "metadata": {},
     "output_type": "execute_result"
    }
   ],
   "source": [
    "np.std(df1[\"column_2\"])"
   ]
  },
  {
   "cell_type": "code",
   "execution_count": 11,
   "id": "515fa524-d59c-4ac2-be97-704c846887f7",
   "metadata": {},
   "outputs": [
    {
     "name": "stderr",
     "output_type": "stream",
     "text": [
      "/tmp/ipykernel_139/1804692089.py:1: FutureWarning: The behavior of `series[i:j]` with an integer-dtype index is deprecated. In a future version, this will be treated as *label-based* indexing, consistent with e.g. `series[i]` lookups. To retain the old behavior, use `series.iloc[i:j]`. To get the future behavior, use `series.loc[i:j]`.\n",
      "  df1[\"column_2\"][1:2]=\"mukesh\"\n"
     ]
    },
    {
     "data": {
      "text/html": [
       "<div>\n",
       "<style scoped>\n",
       "    .dataframe tbody tr th:only-of-type {\n",
       "        vertical-align: middle;\n",
       "    }\n",
       "\n",
       "    .dataframe tbody tr th {\n",
       "        vertical-align: top;\n",
       "    }\n",
       "\n",
       "    .dataframe thead th {\n",
       "        text-align: right;\n",
       "    }\n",
       "</style>\n",
       "<table border=\"1\" class=\"dataframe\">\n",
       "  <thead>\n",
       "    <tr style=\"text-align: right;\">\n",
       "      <th></th>\n",
       "      <th>column_1</th>\n",
       "      <th>column_2</th>\n",
       "      <th>column_3</th>\n",
       "      <th>column_4</th>\n",
       "      <th>column_5</th>\n",
       "      <th>column_6</th>\n",
       "    </tr>\n",
       "  </thead>\n",
       "  <tbody>\n",
       "    <tr>\n",
       "      <th>1</th>\n",
       "      <td>0.720177</td>\n",
       "      <td>0.695259</td>\n",
       "      <td>0.444901</td>\n",
       "      <td>0.611784</td>\n",
       "      <td>0.120405</td>\n",
       "      <td>0.079397</td>\n",
       "    </tr>\n",
       "    <tr>\n",
       "      <th>2</th>\n",
       "      <td>0.012249</td>\n",
       "      <td>mukesh</td>\n",
       "      <td>0.276224</td>\n",
       "      <td>0.362490</td>\n",
       "      <td>0.128723</td>\n",
       "      <td>0.561684</td>\n",
       "    </tr>\n",
       "    <tr>\n",
       "      <th>3</th>\n",
       "      <td>0.169425</td>\n",
       "      <td>0.915172</td>\n",
       "      <td>0.596388</td>\n",
       "      <td>0.203354</td>\n",
       "      <td>0.004806</td>\n",
       "      <td>0.901725</td>\n",
       "    </tr>\n",
       "    <tr>\n",
       "      <th>4</th>\n",
       "      <td>0.434798</td>\n",
       "      <td>0.387084</td>\n",
       "      <td>0.797427</td>\n",
       "      <td>0.591678</td>\n",
       "      <td>0.610039</td>\n",
       "      <td>0.570039</td>\n",
       "    </tr>\n",
       "    <tr>\n",
       "      <th>5</th>\n",
       "      <td>0.086621</td>\n",
       "      <td>0.917992</td>\n",
       "      <td>0.126909</td>\n",
       "      <td>0.541829</td>\n",
       "      <td>0.699131</td>\n",
       "      <td>0.166629</td>\n",
       "    </tr>\n",
       "    <tr>\n",
       "      <th>6</th>\n",
       "      <td>0.431928</td>\n",
       "      <td>0.898815</td>\n",
       "      <td>0.851113</td>\n",
       "      <td>0.628510</td>\n",
       "      <td>0.699894</td>\n",
       "      <td>0.202089</td>\n",
       "    </tr>\n",
       "  </tbody>\n",
       "</table>\n",
       "</div>"
      ],
      "text/plain": [
       "   column_1  column_2  column_3  column_4  column_5  column_6\n",
       "1  0.720177  0.695259  0.444901  0.611784  0.120405  0.079397\n",
       "2  0.012249    mukesh  0.276224  0.362490  0.128723  0.561684\n",
       "3  0.169425  0.915172  0.596388  0.203354  0.004806  0.901725\n",
       "4  0.434798  0.387084  0.797427  0.591678  0.610039  0.570039\n",
       "5  0.086621  0.917992  0.126909  0.541829  0.699131  0.166629\n",
       "6  0.431928  0.898815  0.851113  0.628510  0.699894  0.202089"
      ]
     },
     "execution_count": 11,
     "metadata": {},
     "output_type": "execute_result"
    }
   ],
   "source": [
    "df1[\"column_2\"][1:2]=\"mukesh\"\n",
    "df1"
   ]
  },
  {
   "cell_type": "code",
   "execution_count": 17,
   "id": "2bf9d30d-45e6-4c6e-840b-6a1fa78d7e1b",
   "metadata": {},
   "outputs": [
    {
     "data": {
      "text/html": [
       "<div>\n",
       "<style scoped>\n",
       "    .dataframe tbody tr th:only-of-type {\n",
       "        vertical-align: middle;\n",
       "    }\n",
       "\n",
       "    .dataframe tbody tr th {\n",
       "        vertical-align: top;\n",
       "    }\n",
       "\n",
       "    .dataframe thead th {\n",
       "        text-align: right;\n",
       "    }\n",
       "</style>\n",
       "<table border=\"1\" class=\"dataframe\">\n",
       "  <thead>\n",
       "    <tr style=\"text-align: right;\">\n",
       "      <th></th>\n",
       "      <th>column_1</th>\n",
       "      <th>column_2</th>\n",
       "      <th>column_3</th>\n",
       "      <th>column_4</th>\n",
       "      <th>column_5</th>\n",
       "      <th>column_6</th>\n",
       "    </tr>\n",
       "  </thead>\n",
       "  <tbody>\n",
       "    <tr>\n",
       "      <th>1</th>\n",
       "      <td>0.720177</td>\n",
       "      <td>mukesh</td>\n",
       "      <td>0.444901</td>\n",
       "      <td>0.611784</td>\n",
       "      <td>0.120405</td>\n",
       "      <td>0.079397</td>\n",
       "    </tr>\n",
       "    <tr>\n",
       "      <th>2</th>\n",
       "      <td>0.012249</td>\n",
       "      <td>mukesh</td>\n",
       "      <td>0.276224</td>\n",
       "      <td>0.362490</td>\n",
       "      <td>0.128723</td>\n",
       "      <td>0.561684</td>\n",
       "    </tr>\n",
       "    <tr>\n",
       "      <th>3</th>\n",
       "      <td>0.169425</td>\n",
       "      <td>mukesh</td>\n",
       "      <td>0.596388</td>\n",
       "      <td>0.203354</td>\n",
       "      <td>0.004806</td>\n",
       "      <td>0.901725</td>\n",
       "    </tr>\n",
       "    <tr>\n",
       "      <th>4</th>\n",
       "      <td>0.434798</td>\n",
       "      <td>mukesh</td>\n",
       "      <td>0.797427</td>\n",
       "      <td>0.591678</td>\n",
       "      <td>0.610039</td>\n",
       "      <td>0.570039</td>\n",
       "    </tr>\n",
       "    <tr>\n",
       "      <th>5</th>\n",
       "      <td>0.086621</td>\n",
       "      <td>mukesh</td>\n",
       "      <td>0.126909</td>\n",
       "      <td>0.541829</td>\n",
       "      <td>0.699131</td>\n",
       "      <td>0.166629</td>\n",
       "    </tr>\n",
       "    <tr>\n",
       "      <th>6</th>\n",
       "      <td>0.431928</td>\n",
       "      <td>mukesh</td>\n",
       "      <td>0.851113</td>\n",
       "      <td>0.628510</td>\n",
       "      <td>0.699894</td>\n",
       "      <td>0.202089</td>\n",
       "    </tr>\n",
       "  </tbody>\n",
       "</table>\n",
       "</div>"
      ],
      "text/plain": [
       "   column_1 column_2  column_3  column_4  column_5  column_6\n",
       "1  0.720177   mukesh  0.444901  0.611784  0.120405  0.079397\n",
       "2  0.012249   mukesh  0.276224  0.362490  0.128723  0.561684\n",
       "3  0.169425   mukesh  0.596388  0.203354  0.004806  0.901725\n",
       "4  0.434798   mukesh  0.797427  0.591678  0.610039  0.570039\n",
       "5  0.086621   mukesh  0.126909  0.541829  0.699131  0.166629\n",
       "6  0.431928   mukesh  0.851113  0.628510  0.699894  0.202089"
      ]
     },
     "execution_count": 17,
     "metadata": {},
     "output_type": "execute_result"
    }
   ],
   "source": [
    "str=\"mukesh\"\n",
    "\n",
    "df1.loc[3:,\"column_2\"]=str\n",
    "df1"
   ]
  },
  {
   "cell_type": "code",
   "execution_count": 24,
   "id": "cc7062cc-0807-4207-89f2-067581b28583",
   "metadata": {},
   "outputs": [
    {
     "data": {
      "text/plain": [
       "nan"
      ]
     },
     "execution_count": 24,
     "metadata": {},
     "output_type": "execute_result"
    }
   ],
   "source": [
    "\n",
    "\n",
    "t1=df1['column_2'] = pd.to_numeric(df1['column_2'], errors='coerce')\n",
    "\n",
    "t1\n",
    "np.mean(t1)"
   ]
  },
  {
   "cell_type": "markdown",
   "id": "f1ba6862-8c2f-4b7d-bb51-2e7508d07c97",
   "metadata": {},
   "source": [
    "Q6. What do you understand about the windows function in pandas and list the types of windows\n",
    "functions?"
   ]
  },
  {
   "cell_type": "markdown",
   "id": "2fdba02a-0d68-4e63-956f-2f328be71c82",
   "metadata": {},
   "source": [
    "In pandas, a \"window\" function is a way of performing operations on a specified set of rows, often referred to as a \"window\" or \"window frame,\" which is determined based on some criteria such as a fixed number of preceding and/or following rows, a time range, or any other user-defined condition.\n",
    "\n",
    ".rolling() and .expanding() methods for Series and DataFrames. The most common types of window functions in pandas "
   ]
  },
  {
   "cell_type": "markdown",
   "id": "28d60b5b-df61-4aa9-99a1-1bcd50805b39",
   "metadata": {},
   "source": [
    "Q7. Write a code to print only the current month and year at the time of answering this question.\n",
    "[Hint: Use pandas.datetime function]"
   ]
  },
  {
   "cell_type": "code",
   "execution_count": 12,
   "id": "2c3a3ca2-5506-459c-bc86-143ddc434e54",
   "metadata": {},
   "outputs": [
    {
     "data": {
      "text/plain": [
       "DatetimeIndex(['2023-08-01', '2023-08-02', '2023-08-03', '2023-08-04',\n",
       "               '2023-08-05', '2023-08-06', '2023-08-07', '2023-08-08',\n",
       "               '2023-08-09', '2023-08-10', '2023-08-11', '2023-08-12',\n",
       "               '2023-08-13', '2023-08-14', '2023-08-15', '2023-08-16',\n",
       "               '2023-08-17', '2023-08-18', '2023-08-19', '2023-08-20',\n",
       "               '2023-08-21', '2023-08-22', '2023-08-23', '2023-08-24',\n",
       "               '2023-08-25', '2023-08-26', '2023-08-27', '2023-08-28',\n",
       "               '2023-08-29', '2023-08-30'],\n",
       "              dtype='datetime64[ns]', freq='D')"
      ]
     },
     "execution_count": 12,
     "metadata": {},
     "output_type": "execute_result"
    }
   ],
   "source": [
    "import pandas as pd\n",
    "df3=pd.date_range(start=\"2023-08-1\",end=\"2023-08-30\")\n",
    "df3"
   ]
  },
  {
   "cell_type": "code",
   "execution_count": 13,
   "id": "4fe09e8c-b2fa-4d6a-ac11-3f5fcbc4ac31",
   "metadata": {},
   "outputs": [
    {
     "data": {
      "text/plain": [
       "DatetimeIndex(['2023-08-01', '2023-08-02', '2023-08-03', '2023-08-04',\n",
       "               '2023-08-05', '2023-08-06', '2023-08-07', '2023-08-08',\n",
       "               '2023-08-09', '2023-08-10', '2023-08-11', '2023-08-12',\n",
       "               '2023-08-13', '2023-08-14', '2023-08-15', '2023-08-16',\n",
       "               '2023-08-17', '2023-08-18', '2023-08-19', '2023-08-20',\n",
       "               '2023-08-21', '2023-08-22', '2023-08-23', '2023-08-24',\n",
       "               '2023-08-25', '2023-08-26', '2023-08-27', '2023-08-28',\n",
       "               '2023-08-29', '2023-08-30'],\n",
       "              dtype='datetime64[ns]', freq='D')"
      ]
     },
     "execution_count": 13,
     "metadata": {},
     "output_type": "execute_result"
    }
   ],
   "source": [
    "df3"
   ]
  },
  {
   "cell_type": "code",
   "execution_count": 14,
   "id": "6f8359aa-2e0e-47e8-972c-d4fd51a50050",
   "metadata": {},
   "outputs": [
    {
     "name": "stdout",
     "output_type": "stream",
     "text": [
      "current month : 8\n",
      "current year : 2023\n"
     ]
    }
   ],
   "source": [
    "current_timestamp= pd.Timestamp.now()\n",
    "\n",
    "current_month=current_timestamp.month\n",
    "current_year=current_timestamp.year\n",
    "\n",
    "print(\"current month :\", current_month)\n",
    "print(\"current year :\", current_year)"
   ]
  },
  {
   "cell_type": "markdown",
   "id": "b22e1beb-e51c-4673-89fd-2a785b231fd3",
   "metadata": {},
   "source": [
    "Q8. Write a Python program that takes in two dates as input (in the format YYYY-MM-DD) and\n",
    "calculates the difference between them in days, hours, and minutes using Pandas time delta. The\n",
    "program should prompt the user to enter the dates and display the result."
   ]
  },
  {
   "cell_type": "code",
   "execution_count": 18,
   "id": "0b244985-0c83-43ef-8b95-dfd3023d82f2",
   "metadata": {},
   "outputs": [
    {
     "name": "stdout",
     "output_type": "stream",
     "text": [
      "Enter two dates in the format YYYY-MM-DD:\n"
     ]
    },
    {
     "name": "stdin",
     "output_type": "stream",
     "text": [
      "Enter the first date:  2023-08-21\n",
      "Enter the second date:  2023-09-10\n"
     ]
    },
    {
     "name": "stdout",
     "output_type": "stream",
     "text": [
      "Difference between the two dates:\n",
      "Days: 20\n",
      "Hours: 0\n",
      "Minutes: 0\n"
     ]
    }
   ],
   "source": [
    "import pandas as pd\n",
    "\n",
    "def get_date_input(prompt):\n",
    "    while True:\n",
    "        try:\n",
    "            date_str = input(prompt)\n",
    "            date_obj = pd.to_datetime(date_str, format='%Y-%m-%d')\n",
    "            return date_obj\n",
    "        except ValueError:\n",
    "            print(\"Invalid date format. Please enter the date in the format YYYY-MM-DD.\")\n",
    "\n",
    "def main():\n",
    "    print(\"Enter two dates in the format YYYY-MM-DD:\")\n",
    "    \n",
    "    # Get the first date from the user\n",
    "    date1 = get_date_input(\"Enter the first date: \")\n",
    "\n",
    "    # Get the second date from the user\n",
    "    date2 = get_date_input(\"Enter the second date: \")\n",
    "\n",
    "    # Calculate the time difference using Pandas timedelta\n",
    "    time_difference = date2 - date1\n",
    "\n",
    "    # Extract days, hours, and minutes from the timedelta\n",
    "    days = time_difference.days\n",
    "    hours = time_difference.seconds // 3600\n",
    "    minutes = (time_difference.seconds % 3600) // 60\n",
    "\n",
    "    # Display the result\n",
    "    print(f\"Difference between the two dates:\")\n",
    "    print(f\"Days: {days}\")\n",
    "    print(f\"Hours: {hours}\")\n",
    "    print(f\"Minutes: {minutes}\")\n",
    "\n",
    "if __name__ == \"__main__\":\n",
    "    main()"
   ]
  },
  {
   "cell_type": "markdown",
   "id": "016c551f-59c4-4ee5-b7cc-59961dacb95a",
   "metadata": {},
   "source": [
    "\n",
    "Q9. Write a Python program that reads a CSV file containing categorical data and converts a specified\n",
    "column to a categorical data type. The program should prompt the user to enter the file path, column\n",
    "name, and category order, and then display the sorted data."
   ]
  },
  {
   "cell_type": "code",
   "execution_count": 1,
   "id": "944560e8-c30b-4be1-afc2-2de99084f7df",
   "metadata": {},
   "outputs": [
    {
     "name": "stdin",
     "output_type": "stream",
     "text": [
      "Enter the CSV file path:  45\n",
      "Enter the column name to convert to categorical:  we\n",
      "Enter the category order (comma-separated values):  ty\n"
     ]
    },
    {
     "name": "stdout",
     "output_type": "stream",
     "text": [
      "Error: File not found. Please check the file path and try again.\n"
     ]
    }
   ],
   "source": [
    "import pandas as pd\n",
    "\n",
    "def read_csv_convert_to_categorical(file_path, column_name, category_order):\n",
    "    # Read the CSV file\n",
    "    try:\n",
    "        df = pd.read_csv(file_path)\n",
    "    except FileNotFoundError:\n",
    "        print(\"Error: File not found. Please check the file path and try again.\")\n",
    "        return\n",
    "\n",
    "    # Convert the specified column to a categorical data type with the given order\n",
    "    try:\n",
    "        df[column_name] = pd.Categorical(df[column_name], categories=category_order, ordered=True)\n",
    "    except KeyError:\n",
    "        print(\"Error: Column name not found in the CSV file. Please check the column name and try again.\")\n",
    "        return\n",
    "\n",
    "    # Sort the data based on the specified category order\n",
    "    sorted_df = df.sort_values(by=column_name)\n",
    "\n",
    "    # Display the sorted data\n",
    "    print(sorted_df)\n",
    "\n",
    "if __name__ == \"__main__\":\n",
    "    # Prompt the user to enter the file path, column name, and category order\n",
    "    file_path = input(\"Enter the CSV file path: \")\n",
    "    column_name = input(\"Enter the column name to convert to categorical: \")\n",
    "    category_order = input(\"Enter the category order (comma-separated values): \").split(',')\n",
    "\n",
    "    # Call the function to read and process the data\n",
    "    read_csv_convert_to_categorical(file_path, column_name, category_order)"
   ]
  },
  {
   "cell_type": "markdown",
   "id": "151e2372-dbba-46cb-aa10-7c54b4b7989c",
   "metadata": {},
   "source": [
    "Q10. Write a Python program that reads a CSV file containing sales data for different products and\n",
    "visualizes the data using a stacked bar chart to show the sales of each product category over time. The\n",
    "program should prompt the user to enter the file path and display the chart."
   ]
  },
  {
   "cell_type": "code",
   "execution_count": null,
   "id": "b4eae982-f468-4f19-8094-ba47f4131903",
   "metadata": {},
   "outputs": [
    {
     "name": "stdin",
     "output_type": "stream",
     "text": [
      "Enter the CSV file path:  67\n"
     ]
    },
    {
     "name": "stdout",
     "output_type": "stream",
     "text": [
      "Error: File not found. Please check the file path and try again.\n"
     ]
    }
   ],
   "source": [
    "import matplotlib.pyplot as plt\n",
    "\n",
    "def visualize_sales_data(file_path):\n",
    "    # Read the CSV file\n",
    "    try:\n",
    "        df = pd.read_csv(file_path)\n",
    "    except FileNotFoundError:\n",
    "        print(\"Error: File not found. Please check the file path and try again.\")\n",
    "        return\n",
    "\n",
    "    # Assuming the CSV contains columns 'Date', 'Product', and 'Sales'\n",
    "    # If the column names are different, replace them accordingly\n",
    "    try:\n",
    "        df['Date'] = pd.to_datetime(df['Date'])\n",
    "    except KeyError:\n",
    "        print(\"Error: The CSV file should contain 'Date', 'Product', and 'Sales' columns.\")\n",
    "        return\n",
    "\n",
    "    # Group data by 'Date' and 'Product' and sum the 'Sales' for each product\n",
    "    grouped_data = df.groupby(['Date', 'Product'])['Sales'].sum().reset_index()\n",
    "\n",
    "    # Pivot the data to create a matrix where columns are 'Date', and rows are 'Product' with sales values\n",
    "    pivot_data = grouped_data.pivot(index='Product', columns='Date', values='Sales').fillna(0)\n",
    "\n",
    "    # Create the stacked bar chart\n",
    "    pivot_data.plot(kind='bar', stacked=True, figsize=(12, 6))\n",
    "    plt.xlabel('Product Categories')\n",
    "    plt.ylabel('Sales')\n",
    "    plt.title('Sales of Each Product Category Over Time')\n",
    "    plt.legend(title='Date', loc='upper left')\n",
    "    plt.xticks(rotation=45, ha='right')\n",
    "    plt.tight_layout()\n",
    "\n",
    "    # Display the chart\n",
    "    plt.show()\n",
    "\n",
    "if __name__ == \"__main__\":\n",
    "    # Prompt the user to enter the file path\n",
    "    file_path = input(\"Enter the CSV file path: \")\n",
    "\n",
    "    # Call the function to read and visualize the data\n",
    "    visualize_sales_data(file_path)"
   ]
  },
  {
   "cell_type": "markdown",
   "id": "4dc3ae90-fdf0-499c-a4e1-061b9478ab59",
   "metadata": {},
   "source": [
    "Q11. You are given a CSV file containing student data that includes the student ID and their test score. Write\n",
    "a Python program that reads the CSV file, calculates the mean, median, and mode of the test scores, and\n",
    "displays the results in a table."
   ]
  },
  {
   "cell_type": "code",
   "execution_count": null,
   "id": "f1c56cb5-a29f-4990-a832-9c73fa121c1e",
   "metadata": {},
   "outputs": [],
   "source": [
    "def calculate_statisitcs(file_path):\n",
    "    try:\n",
    "        df=pd.read_csv(file_path)\n",
    "    except   filenotfounferror:\n",
    "        pirnt(\"\"Error: File not found. Please check the file path and try again.\")\n",
    "        \n",
    "        return  \n",
    "    \n",
    "     mean_score=df[\"Test Score\"].mean()\n",
    "     \n",
    "     median_score=df[\"Test Score\"].median()         \n",
    "     \n",
    "     mode_score=df[\"Test Score\"].mode()\n",
    "     \n",
    "     statistics_table = pd.DataFrame({\n",
    "        'Statistic': ['Mean', 'Median', 'Mode'],\n",
    "        'Value': [mean_score, median_score, ', '.join(map(str, mode_scores))]\n",
    "    })         "
   ]
  }
 ],
 "metadata": {
  "kernelspec": {
   "display_name": "Python 3 (ipykernel)",
   "language": "python",
   "name": "python3"
  },
  "language_info": {
   "codemirror_mode": {
    "name": "ipython",
    "version": 3
   },
   "file_extension": ".py",
   "mimetype": "text/x-python",
   "name": "python",
   "nbconvert_exporter": "python",
   "pygments_lexer": "ipython3",
   "version": "3.10.8"
  }
 },
 "nbformat": 4,
 "nbformat_minor": 5
}
